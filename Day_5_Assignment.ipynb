{
 "cells": [
  {
   "cell_type": "code",
   "execution_count": 45,
   "metadata": {},
   "outputs": [
    {
     "name": "stdout",
     "output_type": "stream",
     "text": [
      "3\n",
      "5\n",
      "7\n",
      "11\n",
      "13\n",
      "17\n",
      "19\n"
     ]
    }
   ],
   "source": [
    "#Question 1 :Write a Python program to find the first 20 non-even prime natural numbers.\n",
    "for n in range(1, 21, 1): \n",
    "  \n",
    "       \n",
    "        if (n == 1 or n == 0 or n%2==0): \n",
    "            continue; \n",
    "        flag = 1; \n",
    "  \n",
    "        for i in range(2, n , 1): \n",
    "            if (n % i == 0): \n",
    "                flag = 0; \n",
    "                break; \n",
    "   \n",
    "        if (flag == 1): \n",
    "            print(n); \n",
    "                "
   ]
  },
  {
   "cell_type": "code",
   "execution_count": 8,
   "metadata": {},
   "outputs": [
    {
     "name": "stdout",
     "output_type": "stream",
     "text": [
      "lokesh kumar boriwal\n",
      "LOKESH KUMAR BORIWAL\n",
      "lOKESH kUMAR bORIWAL\n",
      "False\n",
      "Lokesh kumar boriwal\n",
      "lokesh kumar boriwal\n",
      "-1\n",
      "20\n",
      "16\n",
      "True\n",
      "True\n",
      "['Lo', 'esh Kumar Boriwal']\n"
     ]
    }
   ],
   "source": [
    " #Write a Python program to implement 15 functions of string.\n",
    "s1=\"Lokesh Kumar Boriwal\"\n",
    "print(s1.lower())\n",
    "print(s1.upper())\n",
    "print(s1.swapcase())\n",
    "print(s1.isalpha())\n",
    "print(s1.capitalize())\n",
    "print(s1.casefold())\n",
    "print(s1.find(\"g\"))\n",
    "print(len(s1))\n",
    "print(s1.index(\"i\"))\n",
    "print(s1.startswith(\"L\"))\n",
    "print(s1.endswith(\"l\"))\n",
    "print(s1.split(\"k\"))\n"
   ]
  },
  {
   "cell_type": "code",
   "execution_count": 9,
   "metadata": {},
   "outputs": [
    {
     "name": "stdout",
     "output_type": "stream",
     "text": [
      "Aadaa is a Palindrome\n",
      "Aadaa & aaaad are Anagram\n"
     ]
    }
   ],
   "source": [
    "#Question 3:Write a Python program to check if the given string is a Palindrome or Anagram or None of them.Display the message\n",
    "#accordingly to the user.\n",
    "l=\"Aadaa\"\n",
    "k=\"aaaad\"\n",
    "rev_l=l.lower()[::-1]\n",
    "rev_k=k.lower()[::-1]\n",
    "s3=''.join(sorted(rev_l))\n",
    "s4=''.join(sorted(rev_k))\n",
    "\n",
    "if (l.lower()==rev_l):\n",
    "    print(l,\"is a Palindrome\")\n",
    "if(k.lower()==rev_k):\n",
    "    print(k,\"is a Palindrom\")\n",
    "if(s3==s4):\n",
    "    print(l,\"&\",k,\"are Anagram\")\n",
    "if(l.lower()!=rev_l and k.lower()!=rev_k and s3!=s4 ) :\n",
    "     print(\"None of them are Anagram or Palindrom\")\n",
    "        "
   ]
  },
  {
   "cell_type": "code",
   "execution_count": 19,
   "metadata": {},
   "outputs": [
    {
     "ename": "AttributeError",
     "evalue": "'str' object has no attribute 'ascii'",
     "output_type": "error",
     "traceback": [
      "\u001b[1;31m---------------------------------------------------------------------------\u001b[0m",
      "\u001b[1;31mAttributeError\u001b[0m                            Traceback (most recent call last)",
      "\u001b[1;32m<ipython-input-19-96fca7439440>\u001b[0m in \u001b[0;36m<module>\u001b[1;34m\u001b[0m\n\u001b[0;32m      3\u001b[0m \u001b[1;31m#be \"drdarshaningleaimltrainer\".\u001b[0m\u001b[1;33m\u001b[0m\u001b[1;33m\u001b[0m\u001b[1;33m\u001b[0m\u001b[0m\n\u001b[0;32m      4\u001b[0m \u001b[0ms1\u001b[0m\u001b[1;33m=\u001b[0m\u001b[1;34m\"Dr. Darshan Ingle @AI-ML Trainer\"\u001b[0m\u001b[1;33m\u001b[0m\u001b[1;33m\u001b[0m\u001b[0m\n\u001b[1;32m----> 5\u001b[1;33m \u001b[0mvalid_char\u001b[0m \u001b[1;33m=\u001b[0m \u001b[0ms1\u001b[0m\u001b[1;33m.\u001b[0m\u001b[0mascii\u001b[0m\u001b[1;33m(\u001b[0m\u001b[1;33m)\u001b[0m\u001b[1;33m\u001b[0m\u001b[1;33m\u001b[0m\u001b[0m\n\u001b[0m\u001b[0;32m      6\u001b[0m \u001b[1;33m\u001b[0m\u001b[0m\n\u001b[0;32m      7\u001b[0m \u001b[0mprint\u001b[0m \u001b[1;33m(\u001b[0m\u001b[1;33m(\u001b[0m\u001b[1;34m''\u001b[0m\u001b[1;33m.\u001b[0m\u001b[0mjoin\u001b[0m\u001b[1;33m(\u001b[0m\u001b[1;34m''\u001b[0m\u001b[1;33m.\u001b[0m\u001b[0mjoin\u001b[0m\u001b[1;33m(\u001b[0m\u001b[0ms1\u001b[0m\u001b[1;33m.\u001b[0m\u001b[0mlower\u001b[0m\u001b[1;33m(\u001b[0m\u001b[1;33m)\u001b[0m\u001b[1;33m)\u001b[0m\u001b[1;33m.\u001b[0m\u001b[0msplit\u001b[0m\u001b[1;33m(\u001b[0m\u001b[1;33m)\u001b[0m\u001b[1;33m)\u001b[0m\u001b[1;33m)\u001b[0m\u001b[1;33m)\u001b[0m\u001b[1;33m\u001b[0m\u001b[1;33m\u001b[0m\u001b[0m\n",
      "\u001b[1;31mAttributeError\u001b[0m: 'str' object has no attribute 'ascii'"
     ]
    }
   ],
   "source": [
    "#Question 4:Write a Python's user defined function that removes all the additional characters from the string and converts it \n",
    "#finally to lower case using built-in lower(). eg: If the string is \"Dr. Darshan Ingle @AI-ML Trainer\", then the output\n",
    "#be \"drdarshaningleaimltrainer\".\n",
    "s1=\"Dr. Darshan Ingle @AI-ML Trainer\"\n",
    "valid_char = s1.aschii()\n",
    "\n",
    "print ((''.join(''.join(s1.lower()).split())))"
   ]
  },
  {
   "cell_type": "code",
   "execution_count": null,
   "metadata": {},
   "outputs": [],
   "source": []
  }
 ],
 "metadata": {
  "kernelspec": {
   "display_name": "Python 3",
   "language": "python",
   "name": "python3"
  },
  "language_info": {
   "codemirror_mode": {
    "name": "ipython",
    "version": 3
   },
   "file_extension": ".py",
   "mimetype": "text/x-python",
   "name": "python",
   "nbconvert_exporter": "python",
   "pygments_lexer": "ipython3",
   "version": "3.7.6"
  }
 },
 "nbformat": 4,
 "nbformat_minor": 4
}
